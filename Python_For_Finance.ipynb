{
  "nbformat": 4,
  "nbformat_minor": 0,
  "metadata": {
    "colab": {
      "name": "Python For Finance.ipynb",
      "provenance": [],
      "collapsed_sections": []
    },
    "kernelspec": {
      "name": "python3",
      "display_name": "Python 3"
    }
  },
  "cells": [
    {
      "cell_type": "code",
      "metadata": {
        "id": "IjQwJOsxwytS"
      },
      "source": [
        "#Description: This is a python program for finance. It shows how to commpute portfolio simple returns, get daily returns and volatility etc."
      ],
      "execution_count": null,
      "outputs": []
    },
    {
      "cell_type": "code",
      "metadata": {
        "id": "6iDZTqncyrA8",
        "outputId": "dd0b8e13-684a-4e58-e62e-36748060904a",
        "colab": {
          "base_uri": "https://localhost:8080/",
          "height": 71
        }
      },
      "source": [
        "from datetime import datetime\n",
        "import numpy as np\n",
        "import pandas as pd\n",
        "import pandas_datareader as web\n",
        "import matplotlib.pyplot as plt\n",
        "plt.style.use('fivethirtyeight')"
      ],
      "execution_count": null,
      "outputs": [
        {
          "output_type": "stream",
          "text": [
            "/usr/local/lib/python3.6/dist-packages/pandas_datareader/compat/__init__.py:7: FutureWarning: pandas.util.testing is deprecated. Use the functions in the public API at pandas.testing instead.\n",
            "  from pandas.util.testing import assert_frame_equal\n"
          ],
          "name": "stderr"
        }
      ]
    },
    {
      "cell_type": "code",
      "metadata": {
        "id": "k-HonjQBzjjJ"
      },
      "source": [
        "#Get the stock symbols for the portfolio\n",
        "#FAANG\n",
        "stockSymbols=['FB', 'AMZN', 'AAPL', 'NFLX', 'GOOG']\n",
        "\n",
        "#Get stock starting date\n",
        "stockStartDate = '2013-01-01'"
      ],
      "execution_count": null,
      "outputs": []
    },
    {
      "cell_type": "code",
      "metadata": {
        "id": "1nYFdDz-0Wzy",
        "outputId": "6fde731a-333d-4834-e3a9-a1bb208aa4f4",
        "colab": {
          "base_uri": "https://localhost:8080/",
          "height": 34
        }
      },
      "source": [
        "#Get todays date and format it in the form YYYY-mm-dd\n",
        "today=datetime.today().strftime('%Y-%m-%d')\n",
        "print(today)"
      ],
      "execution_count": null,
      "outputs": [
        {
          "output_type": "stream",
          "text": [
            "2020-07-29\n"
          ],
          "name": "stdout"
        }
      ]
    },
    {
      "cell_type": "code",
      "metadata": {
        "id": "Vbwr5wbt0yIT",
        "outputId": "2c18b769-7d89-4aa1-d4ce-80f31a4e3149",
        "colab": {
          "base_uri": "https://localhost:8080/",
          "height": 34
        }
      },
      "source": [
        "#Get the number of assets int the portfolio\n",
        "numAssets=len(stockSymbols)\n",
        "print('You have'+str(numAssets)+' Assets in your portfolio')"
      ],
      "execution_count": null,
      "outputs": [
        {
          "output_type": "stream",
          "text": [
            "You have5 Assets in your portfolio\n"
          ],
          "name": "stdout"
        }
      ]
    },
    {
      "cell_type": "code",
      "metadata": {
        "id": "EyIQ21cm1IlY"
      },
      "source": [
        "#Create a function to get the stock prices in the portfolio\n",
        "def getMyPortfolio(stocks=stockSymbols, start=stockStartDate, end=today, col='Adj Close'):\n",
        "  data=web.DataReader(stocks, data_source='yahoo', start=start, end=end)[col]\n",
        "  return data"
      ],
      "execution_count": null,
      "outputs": []
    },
    {
      "cell_type": "code",
      "metadata": {
        "id": "mFjQsfM668g4"
      },
      "source": [
        "#Get portfolio adjusted close price\n",
        "my_stocks = getMyPortfolio(stockSymbols)"
      ],
      "execution_count": null,
      "outputs": []
    },
    {
      "cell_type": "code",
      "metadata": {
        "id": "KpXuGORO7Fy4",
        "outputId": "cb118b36-9145-4598-94aa-cec617812bed",
        "colab": {
          "base_uri": "https://localhost:8080/",
          "height": 450
        }
      },
      "source": [
        "my_stocks"
      ],
      "execution_count": null,
      "outputs": [
        {
          "output_type": "execute_result",
          "data": {
            "text/html": [
              "<div>\n",
              "<style scoped>\n",
              "    .dataframe tbody tr th:only-of-type {\n",
              "        vertical-align: middle;\n",
              "    }\n",
              "\n",
              "    .dataframe tbody tr th {\n",
              "        vertical-align: top;\n",
              "    }\n",
              "\n",
              "    .dataframe thead th {\n",
              "        text-align: right;\n",
              "    }\n",
              "</style>\n",
              "<table border=\"1\" class=\"dataframe\">\n",
              "  <thead>\n",
              "    <tr style=\"text-align: right;\">\n",
              "      <th>Symbols</th>\n",
              "      <th>FB</th>\n",
              "      <th>AMZN</th>\n",
              "      <th>AAPL</th>\n",
              "      <th>NFLX</th>\n",
              "      <th>GOOG</th>\n",
              "    </tr>\n",
              "    <tr>\n",
              "      <th>Date</th>\n",
              "      <th></th>\n",
              "      <th></th>\n",
              "      <th></th>\n",
              "      <th></th>\n",
              "      <th></th>\n",
              "    </tr>\n",
              "  </thead>\n",
              "  <tbody>\n",
              "    <tr>\n",
              "      <th>2013-01-02</th>\n",
              "      <td>28.000000</td>\n",
              "      <td>257.309998</td>\n",
              "      <td>68.502106</td>\n",
              "      <td>13.144286</td>\n",
              "      <td>360.274597</td>\n",
              "    </tr>\n",
              "    <tr>\n",
              "      <th>2013-01-03</th>\n",
              "      <td>27.770000</td>\n",
              "      <td>258.480011</td>\n",
              "      <td>67.637436</td>\n",
              "      <td>13.798572</td>\n",
              "      <td>360.483826</td>\n",
              "    </tr>\n",
              "    <tr>\n",
              "      <th>2013-01-04</th>\n",
              "      <td>28.760000</td>\n",
              "      <td>259.149994</td>\n",
              "      <td>65.753418</td>\n",
              "      <td>13.711429</td>\n",
              "      <td>367.607117</td>\n",
              "    </tr>\n",
              "    <tr>\n",
              "      <th>2013-01-07</th>\n",
              "      <td>29.420000</td>\n",
              "      <td>268.459991</td>\n",
              "      <td>65.366646</td>\n",
              "      <td>14.171429</td>\n",
              "      <td>366.003143</td>\n",
              "    </tr>\n",
              "    <tr>\n",
              "      <th>2013-01-08</th>\n",
              "      <td>29.059999</td>\n",
              "      <td>266.380005</td>\n",
              "      <td>65.542587</td>\n",
              "      <td>13.880000</td>\n",
              "      <td>365.280823</td>\n",
              "    </tr>\n",
              "    <tr>\n",
              "      <th>...</th>\n",
              "      <td>...</td>\n",
              "      <td>...</td>\n",
              "      <td>...</td>\n",
              "      <td>...</td>\n",
              "      <td>...</td>\n",
              "    </tr>\n",
              "    <tr>\n",
              "      <th>2020-07-23</th>\n",
              "      <td>232.600006</td>\n",
              "      <td>2986.550049</td>\n",
              "      <td>371.380005</td>\n",
              "      <td>477.579987</td>\n",
              "      <td>1515.680054</td>\n",
              "    </tr>\n",
              "    <tr>\n",
              "      <th>2020-07-24</th>\n",
              "      <td>230.710007</td>\n",
              "      <td>3008.909912</td>\n",
              "      <td>370.459991</td>\n",
              "      <td>480.450012</td>\n",
              "      <td>1511.869995</td>\n",
              "    </tr>\n",
              "    <tr>\n",
              "      <th>2020-07-27</th>\n",
              "      <td>233.500000</td>\n",
              "      <td>3055.209961</td>\n",
              "      <td>379.239990</td>\n",
              "      <td>495.649994</td>\n",
              "      <td>1530.199951</td>\n",
              "    </tr>\n",
              "    <tr>\n",
              "      <th>2020-07-28</th>\n",
              "      <td>230.119995</td>\n",
              "      <td>3000.330078</td>\n",
              "      <td>373.010010</td>\n",
              "      <td>488.510010</td>\n",
              "      <td>1500.339966</td>\n",
              "    </tr>\n",
              "    <tr>\n",
              "      <th>2020-07-29</th>\n",
              "      <td>231.419998</td>\n",
              "      <td>3021.260010</td>\n",
              "      <td>377.429901</td>\n",
              "      <td>486.820007</td>\n",
              "      <td>1514.119995</td>\n",
              "    </tr>\n",
              "  </tbody>\n",
              "</table>\n",
              "<p>1907 rows × 5 columns</p>\n",
              "</div>"
            ],
            "text/plain": [
              "Symbols             FB         AMZN        AAPL        NFLX         GOOG\n",
              "Date                                                                    \n",
              "2013-01-02   28.000000   257.309998   68.502106   13.144286   360.274597\n",
              "2013-01-03   27.770000   258.480011   67.637436   13.798572   360.483826\n",
              "2013-01-04   28.760000   259.149994   65.753418   13.711429   367.607117\n",
              "2013-01-07   29.420000   268.459991   65.366646   14.171429   366.003143\n",
              "2013-01-08   29.059999   266.380005   65.542587   13.880000   365.280823\n",
              "...                ...          ...         ...         ...          ...\n",
              "2020-07-23  232.600006  2986.550049  371.380005  477.579987  1515.680054\n",
              "2020-07-24  230.710007  3008.909912  370.459991  480.450012  1511.869995\n",
              "2020-07-27  233.500000  3055.209961  379.239990  495.649994  1530.199951\n",
              "2020-07-28  230.119995  3000.330078  373.010010  488.510010  1500.339966\n",
              "2020-07-29  231.419998  3021.260010  377.429901  486.820007  1514.119995\n",
              "\n",
              "[1907 rows x 5 columns]"
            ]
          },
          "metadata": {
            "tags": []
          },
          "execution_count": 7
        }
      ]
    },
    {
      "cell_type": "code",
      "metadata": {
        "id": "H3FnYSZo7J0v"
      },
      "source": [
        "#Create a function to visualize the portfolio\n",
        "def showGraph(stocks=stockSymbols, start=stockStartDate, end=today, col='Adj Close'):\n",
        "\n",
        "  #create a title for the portfolio\n",
        "  title='Portfolio '+col+' Price History'\n",
        "\n",
        "  #Get the stocks\n",
        "  my_stocks=getMyPortfolio(stocks=stocks, start=start, end=end, col=col)\n",
        "\n",
        "  #Give the figure size\n",
        "  plt.figure(figsize=(12.2,4.5))\n",
        "\n",
        "  #Loop through each stock and plot the price\n",
        "  for c in my_stocks.columns.values:\n",
        "    plt.plot(my_stocks[c], label= c)\n",
        "\n",
        "  plt.title(title)\n",
        "  plt.xlabel('Date', fontsize=18)\n",
        "  plt.ylabel(col+'Adj Close Price USD($)', fontsize=18)\n",
        "  plt.legend(my_stocks.columns.values, loc='upper left')\n",
        "  plt.show()"
      ],
      "execution_count": null,
      "outputs": []
    },
    {
      "cell_type": "code",
      "metadata": {
        "id": "pEARqo24e1wS",
        "outputId": "d6e35687-661d-4b71-8d9f-56f381fe2c2f",
        "colab": {
          "base_uri": "https://localhost:8080/",
          "height": 332
        }
      },
      "source": [
        "#Show adjusted close price for FAANG\n",
        "showGraph(stockSymbols)"
      ],
      "execution_count": null,
      "outputs": [
        {
          "output_type": "display_data",
          "data": {
            "image/png": "[encoded data removed]",
            "text/plain": [
              "<Figure size 878.4x324 with 1 Axes>"
            ]
          },
          "metadata": {
            "tags": [],
            "needs_background": "light"
          }
        }
      ]
    },
    {
      "cell_type": "code",
      "metadata": {
        "id": "hzvj9lwpfAqc",
        "outputId": "0bf53715-4591-42be-d641-a39b657b8fce",
        "colab": {
          "base_uri": "https://localhost:8080/",
          "height": 450
        }
      },
      "source": [
        "#Calculate the simple returns\n",
        "daily_simple_returns=my_stocks.pct_change()\n",
        "\n",
        "#Show the daily simple returns\n",
        "daily_simple_returns"
      ],
      "execution_count": null,
      "outputs": [
        {
          "output_type": "execute_result",
          "data": {
            "text/html": [
              "<div>\n",
              "<style scoped>\n",
              "    .dataframe tbody tr th:only-of-type {\n",
              "        vertical-align: middle;\n",
              "    }\n",
              "\n",
              "    .dataframe tbody tr th {\n",
              "        vertical-align: top;\n",
              "    }\n",
              "\n",
              "    .dataframe thead th {\n",
              "        text-align: right;\n",
              "    }\n",
              "</style>\n",
              "<table border=\"1\" class=\"dataframe\">\n",
              "  <thead>\n",
              "    <tr style=\"text-align: right;\">\n",
              "      <th>Symbols</th>\n",
              "      <th>FB</th>\n",
              "      <th>AMZN</th>\n",
              "      <th>AAPL</th>\n",
              "      <th>NFLX</th>\n",
              "      <th>GOOG</th>\n",
              "    </tr>\n",
              "    <tr>\n",
              "      <th>Date</th>\n",
              "      <th></th>\n",
              "      <th></th>\n",
              "      <th></th>\n",
              "      <th></th>\n",
              "      <th></th>\n",
              "    </tr>\n",
              "  </thead>\n",
              "  <tbody>\n",
              "    <tr>\n",
              "      <th>2013-01-02</th>\n",
              "      <td>NaN</td>\n",
              "      <td>NaN</td>\n",
              "      <td>NaN</td>\n",
              "      <td>NaN</td>\n",
              "      <td>NaN</td>\n",
              "    </tr>\n",
              "    <tr>\n",
              "      <th>2013-01-03</th>\n",
              "      <td>-0.008214</td>\n",
              "      <td>0.004547</td>\n",
              "      <td>-0.012623</td>\n",
              "      <td>0.049777</td>\n",
              "      <td>0.000581</td>\n",
              "    </tr>\n",
              "    <tr>\n",
              "      <th>2013-01-04</th>\n",
              "      <td>0.035650</td>\n",
              "      <td>0.002592</td>\n",
              "      <td>-0.027855</td>\n",
              "      <td>-0.006315</td>\n",
              "      <td>0.019760</td>\n",
              "    </tr>\n",
              "    <tr>\n",
              "      <th>2013-01-07</th>\n",
              "      <td>0.022949</td>\n",
              "      <td>0.035925</td>\n",
              "      <td>-0.005882</td>\n",
              "      <td>0.033549</td>\n",
              "      <td>-0.004363</td>\n",
              "    </tr>\n",
              "    <tr>\n",
              "      <th>2013-01-08</th>\n",
              "      <td>-0.012237</td>\n",
              "      <td>-0.007748</td>\n",
              "      <td>0.002692</td>\n",
              "      <td>-0.020565</td>\n",
              "      <td>-0.001974</td>\n",
              "    </tr>\n",
              "    <tr>\n",
              "      <th>...</th>\n",
              "      <td>...</td>\n",
              "      <td>...</td>\n",
              "      <td>...</td>\n",
              "      <td>...</td>\n",
              "      <td>...</td>\n",
              "    </tr>\n",
              "    <tr>\n",
              "      <th>2020-07-23</th>\n",
              "      <td>-0.030308</td>\n",
              "      <td>-0.036569</td>\n",
              "      <td>-0.045516</td>\n",
              "      <td>-0.024989</td>\n",
              "      <td>-0.033669</td>\n",
              "    </tr>\n",
              "    <tr>\n",
              "      <th>2020-07-24</th>\n",
              "      <td>-0.008126</td>\n",
              "      <td>0.007487</td>\n",
              "      <td>-0.002477</td>\n",
              "      <td>0.006010</td>\n",
              "      <td>-0.002514</td>\n",
              "    </tr>\n",
              "    <tr>\n",
              "      <th>2020-07-27</th>\n",
              "      <td>0.012093</td>\n",
              "      <td>0.015388</td>\n",
              "      <td>0.023700</td>\n",
              "      <td>0.031637</td>\n",
              "      <td>0.012124</td>\n",
              "    </tr>\n",
              "    <tr>\n",
              "      <th>2020-07-28</th>\n",
              "      <td>-0.014475</td>\n",
              "      <td>-0.017963</td>\n",
              "      <td>-0.016428</td>\n",
              "      <td>-0.014405</td>\n",
              "      <td>-0.019514</td>\n",
              "    </tr>\n",
              "    <tr>\n",
              "      <th>2020-07-29</th>\n",
              "      <td>0.005649</td>\n",
              "      <td>0.006976</td>\n",
              "      <td>0.011849</td>\n",
              "      <td>-0.003460</td>\n",
              "      <td>0.009185</td>\n",
              "    </tr>\n",
              "  </tbody>\n",
              "</table>\n",
              "<p>1907 rows × 5 columns</p>\n",
              "</div>"
            ],
            "text/plain": [
              "Symbols           FB      AMZN      AAPL      NFLX      GOOG\n",
              "Date                                                        \n",
              "2013-01-02       NaN       NaN       NaN       NaN       NaN\n",
              "2013-01-03 -0.008214  0.004547 -0.012623  0.049777  0.000581\n",
              "2013-01-04  0.035650  0.002592 -0.027855 -0.006315  0.019760\n",
              "2013-01-07  0.022949  0.035925 -0.005882  0.033549 -0.004363\n",
              "2013-01-08 -0.012237 -0.007748  0.002692 -0.020565 -0.001974\n",
              "...              ...       ...       ...       ...       ...\n",
              "2020-07-23 -0.030308 -0.036569 -0.045516 -0.024989 -0.033669\n",
              "2020-07-24 -0.008126  0.007487 -0.002477  0.006010 -0.002514\n",
              "2020-07-27  0.012093  0.015388  0.023700  0.031637  0.012124\n",
              "2020-07-28 -0.014475 -0.017963 -0.016428 -0.014405 -0.019514\n",
              "2020-07-29  0.005649  0.006976  0.011849 -0.003460  0.009185\n",
              "\n",
              "[1907 rows x 5 columns]"
            ]
          },
          "metadata": {
            "tags": []
          },
          "execution_count": 15
        }
      ]
    },
    {
      "cell_type": "code",
      "metadata": {
        "id": "0tTXOnWxgGgZ",
        "outputId": "08e7b2bc-a68a-4683-e7f3-1bbaa5d38f18",
        "colab": {
          "base_uri": "https://localhost:8080/",
          "height": 235
        }
      },
      "source": [
        "#Show stock correlation\n",
        "daily_simple_returns.corr()"
      ],
      "execution_count": null,
      "outputs": [
        {
          "output_type": "execute_result",
          "data": {
            "text/html": [
              "<div>\n",
              "<style scoped>\n",
              "    .dataframe tbody tr th:only-of-type {\n",
              "        vertical-align: middle;\n",
              "    }\n",
              "\n",
              "    .dataframe tbody tr th {\n",
              "        vertical-align: top;\n",
              "    }\n",
              "\n",
              "    .dataframe thead th {\n",
              "        text-align: right;\n",
              "    }\n",
              "</style>\n",
              "<table border=\"1\" class=\"dataframe\">\n",
              "  <thead>\n",
              "    <tr style=\"text-align: right;\">\n",
              "      <th>Symbols</th>\n",
              "      <th>FB</th>\n",
              "      <th>AMZN</th>\n",
              "      <th>AAPL</th>\n",
              "      <th>NFLX</th>\n",
              "      <th>GOOG</th>\n",
              "    </tr>\n",
              "    <tr>\n",
              "      <th>Symbols</th>\n",
              "      <th></th>\n",
              "      <th></th>\n",
              "      <th></th>\n",
              "      <th></th>\n",
              "      <th></th>\n",
              "    </tr>\n",
              "  </thead>\n",
              "  <tbody>\n",
              "    <tr>\n",
              "      <th>FB</th>\n",
              "      <td>1.000000</td>\n",
              "      <td>0.505463</td>\n",
              "      <td>0.437271</td>\n",
              "      <td>0.348175</td>\n",
              "      <td>0.565135</td>\n",
              "    </tr>\n",
              "    <tr>\n",
              "      <th>AMZN</th>\n",
              "      <td>0.505463</td>\n",
              "      <td>1.000000</td>\n",
              "      <td>0.430036</td>\n",
              "      <td>0.440743</td>\n",
              "      <td>0.605361</td>\n",
              "    </tr>\n",
              "    <tr>\n",
              "      <th>AAPL</th>\n",
              "      <td>0.437271</td>\n",
              "      <td>0.430036</td>\n",
              "      <td>1.000000</td>\n",
              "      <td>0.253295</td>\n",
              "      <td>0.535110</td>\n",
              "    </tr>\n",
              "    <tr>\n",
              "      <th>NFLX</th>\n",
              "      <td>0.348175</td>\n",
              "      <td>0.440743</td>\n",
              "      <td>0.253295</td>\n",
              "      <td>1.000000</td>\n",
              "      <td>0.418293</td>\n",
              "    </tr>\n",
              "    <tr>\n",
              "      <th>GOOG</th>\n",
              "      <td>0.565135</td>\n",
              "      <td>0.605361</td>\n",
              "      <td>0.535110</td>\n",
              "      <td>0.418293</td>\n",
              "      <td>1.000000</td>\n",
              "    </tr>\n",
              "  </tbody>\n",
              "</table>\n",
              "</div>"
            ],
            "text/plain": [
              "Symbols        FB      AMZN      AAPL      NFLX      GOOG\n",
              "Symbols                                                  \n",
              "FB       1.000000  0.505463  0.437271  0.348175  0.565135\n",
              "AMZN     0.505463  1.000000  0.430036  0.440743  0.605361\n",
              "AAPL     0.437271  0.430036  1.000000  0.253295  0.535110\n",
              "NFLX     0.348175  0.440743  0.253295  1.000000  0.418293\n",
              "GOOG     0.565135  0.605361  0.535110  0.418293  1.000000"
            ]
          },
          "metadata": {
            "tags": []
          },
          "execution_count": 16
        }
      ]
    },
    {
      "cell_type": "code",
      "metadata": {
        "id": "bahx5qtWg5V0",
        "outputId": "a1d1ce67-f682-4da7-9901-67872d3753aa",
        "colab": {
          "base_uri": "https://localhost:8080/",
          "height": 235
        }
      },
      "source": [
        "#Show the covarriance matrix for simple returns\n",
        "daily_simple_returns.cov()"
      ],
      "execution_count": null,
      "outputs": [
        {
          "output_type": "execute_result",
          "data": {
            "text/html": [
              "<div>\n",
              "<style scoped>\n",
              "    .dataframe tbody tr th:only-of-type {\n",
              "        vertical-align: middle;\n",
              "    }\n",
              "\n",
              "    .dataframe tbody tr th {\n",
              "        vertical-align: top;\n",
              "    }\n",
              "\n",
              "    .dataframe thead th {\n",
              "        text-align: right;\n",
              "    }\n",
              "</style>\n",
              "<table border=\"1\" class=\"dataframe\">\n",
              "  <thead>\n",
              "    <tr style=\"text-align: right;\">\n",
              "      <th>Symbols</th>\n",
              "      <th>FB</th>\n",
              "      <th>AMZN</th>\n",
              "      <th>AAPL</th>\n",
              "      <th>NFLX</th>\n",
              "      <th>GOOG</th>\n",
              "    </tr>\n",
              "    <tr>\n",
              "      <th>Symbols</th>\n",
              "      <th></th>\n",
              "      <th></th>\n",
              "      <th></th>\n",
              "      <th></th>\n",
              "      <th></th>\n",
              "    </tr>\n",
              "  </thead>\n",
              "  <tbody>\n",
              "    <tr>\n",
              "      <th>FB</th>\n",
              "      <td>0.000462</td>\n",
              "      <td>0.000208</td>\n",
              "      <td>0.000164</td>\n",
              "      <td>0.000217</td>\n",
              "      <td>0.000195</td>\n",
              "    </tr>\n",
              "    <tr>\n",
              "      <th>AMZN</th>\n",
              "      <td>0.000208</td>\n",
              "      <td>0.000368</td>\n",
              "      <td>0.000144</td>\n",
              "      <td>0.000246</td>\n",
              "      <td>0.000187</td>\n",
              "    </tr>\n",
              "    <tr>\n",
              "      <th>AAPL</th>\n",
              "      <td>0.000164</td>\n",
              "      <td>0.000144</td>\n",
              "      <td>0.000304</td>\n",
              "      <td>0.000128</td>\n",
              "      <td>0.000150</td>\n",
              "    </tr>\n",
              "    <tr>\n",
              "      <th>NFLX</th>\n",
              "      <td>0.000217</td>\n",
              "      <td>0.000246</td>\n",
              "      <td>0.000128</td>\n",
              "      <td>0.000844</td>\n",
              "      <td>0.000195</td>\n",
              "    </tr>\n",
              "    <tr>\n",
              "      <th>GOOG</th>\n",
              "      <td>0.000195</td>\n",
              "      <td>0.000187</td>\n",
              "      <td>0.000150</td>\n",
              "      <td>0.000195</td>\n",
              "      <td>0.000258</td>\n",
              "    </tr>\n",
              "  </tbody>\n",
              "</table>\n",
              "</div>"
            ],
            "text/plain": [
              "Symbols        FB      AMZN      AAPL      NFLX      GOOG\n",
              "Symbols                                                  \n",
              "FB       0.000462  0.000208  0.000164  0.000217  0.000195\n",
              "AMZN     0.000208  0.000368  0.000144  0.000246  0.000187\n",
              "AAPL     0.000164  0.000144  0.000304  0.000128  0.000150\n",
              "NFLX     0.000217  0.000246  0.000128  0.000844  0.000195\n",
              "GOOG     0.000195  0.000187  0.000150  0.000195  0.000258"
            ]
          },
          "metadata": {
            "tags": []
          },
          "execution_count": 17
        }
      ]
    },
    {
      "cell_type": "code",
      "metadata": {
        "id": "B5S3kpT8hOtB",
        "outputId": "39f36a89-e713-40e1-c313-81370530e3cf",
        "colab": {
          "base_uri": "https://localhost:8080/",
          "height": 136
        }
      },
      "source": [
        "#Show the variance\n",
        "daily_simple_returns.var()"
      ],
      "execution_count": null,
      "outputs": [
        {
          "output_type": "execute_result",
          "data": {
            "text/plain": [
              "Symbols\n",
              "FB      0.000462\n",
              "AMZN    0.000368\n",
              "AAPL    0.000304\n",
              "NFLX    0.000844\n",
              "GOOG    0.000258\n",
              "dtype: float64"
            ]
          },
          "metadata": {
            "tags": []
          },
          "execution_count": 18
        }
      ]
    },
    {
      "cell_type": "code",
      "metadata": {
        "id": "kOOAeJXojAt9",
        "outputId": "25b147c5-f069-49b1-8f1a-b52f48e3fbfb",
        "colab": {
          "base_uri": "https://localhost:8080/",
          "height": 153
        }
      },
      "source": [
        "#Print the standard deviation for daily simple returns\n",
        "print('The stock volatility: ')\n",
        "daily_simple_returns.std()"
      ],
      "execution_count": null,
      "outputs": [
        {
          "output_type": "stream",
          "text": [
            "The stock volatility: \n"
          ],
          "name": "stdout"
        },
        {
          "output_type": "execute_result",
          "data": {
            "text/plain": [
              "Symbols\n",
              "FB      0.021486\n",
              "AMZN    0.019185\n",
              "AAPL    0.017426\n",
              "NFLX    0.029044\n",
              "GOOG    0.016065\n",
              "dtype: float64"
            ]
          },
          "metadata": {
            "tags": []
          },
          "execution_count": 19
        }
      ]
    },
    {
      "cell_type": "code",
      "metadata": {
        "id": "fm5jtlcwjSvT",
        "outputId": "46a8c6e4-77dd-4a57-c2fd-77ac29de3295",
        "colab": {
          "base_uri": "https://localhost:8080/",
          "height": 323
        }
      },
      "source": [
        "#Visualize the stocks daily simple returns\n",
        "plt.figure(figsize=(12,4.5))\n",
        "\n",
        "#Loop through each stock and plot the simple returns\n",
        "for c in daily_simple_returns.columns.values:\n",
        "  plt.plot(daily_simple_returns.index, daily_simple_returns[c], lw=2, label=c)\n",
        "\n",
        "#Create a legend\n",
        "plt.legend(loc='upper right', fontsize=10)\n",
        "plt.title('Volatility')\n",
        "plt.xlabel('Date')\n",
        "plt.ylabel('Daily Simple Returns')\n",
        "plt.show()"
      ],
      "execution_count": null,
      "outputs": [
        {
          "output_type": "display_data",
          "data": {
            "image/png": "[encoded data removed]",
            "text/plain": [
              "<Figure size 864x324 with 1 Axes>"
            ]
          },
          "metadata": {
            "tags": [],
            "needs_background": "light"
          }
        }
      ]
    },
    {
      "cell_type": "code",
      "metadata": {
        "id": "E0rvIP0fjnR8",
        "outputId": "2a950339-7ec4-4602-fc80-af3dec9480a8",
        "colab": {
          "base_uri": "https://localhost:8080/",
          "height": 136
        }
      },
      "source": [
        "#Show mean of the daily simple returns\n",
        "dailyMeanSimpleReturns=daily_simple_returns.mean()\n",
        "print(dailyMeanSimpleReturns)"
      ],
      "execution_count": null,
      "outputs": [
        {
          "output_type": "stream",
          "text": [
            "Symbols\n",
            "FB      0.001337\n",
            "AMZN    0.001476\n",
            "AAPL    0.001048\n",
            "NFLX    0.002303\n",
            "GOOG    0.000882\n",
            "dtype: float64\n"
          ],
          "name": "stdout"
        }
      ]
    },
    {
      "cell_type": "code",
      "metadata": {
        "id": "uRoWUhAmkcbp",
        "outputId": "2bd3f9c7-8d50-4b8b-f82d-9604009dc3a6",
        "colab": {
          "base_uri": "https://localhost:8080/",
          "height": 34
        }
      },
      "source": [
        "#Calculate expected portfolio daily return\n",
        "randomWeights=np.array([0.4,0.1,0.3,0.1,0.1])\n",
        "portfolioSimpleReturn=np.sum(dailyMeanSimpleReturns*randomWeights)\n",
        "\n",
        "#Print daily expected portfolio returns\n",
        "print('The daily expected portfolio return: '+str(portfolioSimpleReturn))"
      ],
      "execution_count": null,
      "outputs": [
        {
          "output_type": "stream",
          "text": [
            "The daily expected portfolio return: 0.0013151583978113035\n"
          ],
          "name": "stdout"
        }
      ]
    },
    {
      "cell_type": "code",
      "metadata": {
        "id": "28G5Mf0ioyVg",
        "outputId": "948b27d5-6f9a-4cb7-f35f-cc6525ab62fa",
        "colab": {
          "base_uri": "https://localhost:8080/",
          "height": 34
        }
      },
      "source": [
        "#Get the yearly simple return\n",
        "print('Expected annualised portfolio simple return: '+str(portfolioSimpleReturn*(253)))"
      ],
      "execution_count": null,
      "outputs": [
        {
          "output_type": "stream",
          "text": [
            "Expected annualised portfolio simple return: 0.3327350746462598\n"
          ],
          "name": "stdout"
        }
      ]
    },
    {
      "cell_type": "code",
      "metadata": {
        "id": "_Nes496Vrh3Q",
        "outputId": "9f87287f-feda-4b18-de85-72a7689fe3af",
        "colab": {
          "base_uri": "https://localhost:8080/",
          "height": 450
        }
      },
      "source": [
        "#Calculate the growth of the investment\n",
        "dailyCumulSimpleReturn=(daily_simple_returns+1).cumprod()\n",
        "\n",
        "#Show the cumulative siimple returns\n",
        "dailyCumulSimpleReturn\n"
      ],
      "execution_count": null,
      "outputs": [
        {
          "output_type": "execute_result",
          "data": {
            "text/html": [
              "<div>\n",
              "<style scoped>\n",
              "    .dataframe tbody tr th:only-of-type {\n",
              "        vertical-align: middle;\n",
              "    }\n",
              "\n",
              "    .dataframe tbody tr th {\n",
              "        vertical-align: top;\n",
              "    }\n",
              "\n",
              "    .dataframe thead th {\n",
              "        text-align: right;\n",
              "    }\n",
              "</style>\n",
              "<table border=\"1\" class=\"dataframe\">\n",
              "  <thead>\n",
              "    <tr style=\"text-align: right;\">\n",
              "      <th>Symbols</th>\n",
              "      <th>FB</th>\n",
              "      <th>AMZN</th>\n",
              "      <th>AAPL</th>\n",
              "      <th>NFLX</th>\n",
              "      <th>GOOG</th>\n",
              "    </tr>\n",
              "    <tr>\n",
              "      <th>Date</th>\n",
              "      <th></th>\n",
              "      <th></th>\n",
              "      <th></th>\n",
              "      <th></th>\n",
              "      <th></th>\n",
              "    </tr>\n",
              "  </thead>\n",
              "  <tbody>\n",
              "    <tr>\n",
              "      <th>2013-01-02</th>\n",
              "      <td>NaN</td>\n",
              "      <td>NaN</td>\n",
              "      <td>NaN</td>\n",
              "      <td>NaN</td>\n",
              "      <td>NaN</td>\n",
              "    </tr>\n",
              "    <tr>\n",
              "      <th>2013-01-03</th>\n",
              "      <td>0.991786</td>\n",
              "      <td>1.004547</td>\n",
              "      <td>0.987377</td>\n",
              "      <td>1.049777</td>\n",
              "      <td>1.000581</td>\n",
              "    </tr>\n",
              "    <tr>\n",
              "      <th>2013-01-04</th>\n",
              "      <td>1.027143</td>\n",
              "      <td>1.007151</td>\n",
              "      <td>0.959874</td>\n",
              "      <td>1.043147</td>\n",
              "      <td>1.020353</td>\n",
              "    </tr>\n",
              "    <tr>\n",
              "      <th>2013-01-07</th>\n",
              "      <td>1.050714</td>\n",
              "      <td>1.043333</td>\n",
              "      <td>0.954228</td>\n",
              "      <td>1.078144</td>\n",
              "      <td>1.015900</td>\n",
              "    </tr>\n",
              "    <tr>\n",
              "      <th>2013-01-08</th>\n",
              "      <td>1.037857</td>\n",
              "      <td>1.035249</td>\n",
              "      <td>0.956797</td>\n",
              "      <td>1.055972</td>\n",
              "      <td>1.013896</td>\n",
              "    </tr>\n",
              "    <tr>\n",
              "      <th>...</th>\n",
              "      <td>...</td>\n",
              "      <td>...</td>\n",
              "      <td>...</td>\n",
              "      <td>...</td>\n",
              "      <td>...</td>\n",
              "    </tr>\n",
              "    <tr>\n",
              "      <th>2020-07-23</th>\n",
              "      <td>8.307143</td>\n",
              "      <td>11.606817</td>\n",
              "      <td>5.421439</td>\n",
              "      <td>36.333657</td>\n",
              "      <td>4.207013</td>\n",
              "    </tr>\n",
              "    <tr>\n",
              "      <th>2020-07-24</th>\n",
              "      <td>8.239643</td>\n",
              "      <td>11.693716</td>\n",
              "      <td>5.408009</td>\n",
              "      <td>36.552005</td>\n",
              "      <td>4.196438</td>\n",
              "    </tr>\n",
              "    <tr>\n",
              "      <th>2020-07-27</th>\n",
              "      <td>8.339286</td>\n",
              "      <td>11.873654</td>\n",
              "      <td>5.536180</td>\n",
              "      <td>37.708400</td>\n",
              "      <td>4.247316</td>\n",
              "    </tr>\n",
              "    <tr>\n",
              "      <th>2020-07-28</th>\n",
              "      <td>8.218571</td>\n",
              "      <td>11.660371</td>\n",
              "      <td>5.445234</td>\n",
              "      <td>37.165199</td>\n",
              "      <td>4.164435</td>\n",
              "    </tr>\n",
              "    <tr>\n",
              "      <th>2020-07-29</th>\n",
              "      <td>8.265000</td>\n",
              "      <td>11.741712</td>\n",
              "      <td>5.509756</td>\n",
              "      <td>37.036626</td>\n",
              "      <td>4.202683</td>\n",
              "    </tr>\n",
              "  </tbody>\n",
              "</table>\n",
              "<p>1907 rows × 5 columns</p>\n",
              "</div>"
            ],
            "text/plain": [
              "Symbols           FB       AMZN      AAPL       NFLX      GOOG\n",
              "Date                                                          \n",
              "2013-01-02       NaN        NaN       NaN        NaN       NaN\n",
              "2013-01-03  0.991786   1.004547  0.987377   1.049777  1.000581\n",
              "2013-01-04  1.027143   1.007151  0.959874   1.043147  1.020353\n",
              "2013-01-07  1.050714   1.043333  0.954228   1.078144  1.015900\n",
              "2013-01-08  1.037857   1.035249  0.956797   1.055972  1.013896\n",
              "...              ...        ...       ...        ...       ...\n",
              "2020-07-23  8.307143  11.606817  5.421439  36.333657  4.207013\n",
              "2020-07-24  8.239643  11.693716  5.408009  36.552005  4.196438\n",
              "2020-07-27  8.339286  11.873654  5.536180  37.708400  4.247316\n",
              "2020-07-28  8.218571  11.660371  5.445234  37.165199  4.164435\n",
              "2020-07-29  8.265000  11.741712  5.509756  37.036626  4.202683\n",
              "\n",
              "[1907 rows x 5 columns]"
            ]
          },
          "metadata": {
            "tags": []
          },
          "execution_count": 33
        }
      ]
    },
    {
      "cell_type": "code",
      "metadata": {
        "id": "dYHwr23WsQ76",
        "outputId": "a957f349-3f66-473d-ab13-75f9c9facbea",
        "colab": {
          "base_uri": "https://localhost:8080/",
          "height": 323
        }
      },
      "source": [
        "#visualize the daily cumulative simple returns\n",
        "plt.figure(figsize=(12.2, 4.5))\n",
        "for c in daily_simple_returns.columns.values:\n",
        "  plt.plot(dailyCumulSimpleReturn.index, dailyCumulSimpleReturn[c], lw=2, label=c)\n",
        "\n",
        "plt.legend(loc='upper left', fontsize=10)\n",
        "plt.xlabel('Date')\n",
        "plt.ylabel('Growth of $1 investment')\n",
        "plt.title('Daily Cumulative Simple Returns')\n",
        "plt.show()\n"
      ],
      "execution_count": null,
      "outputs": [
        {
          "output_type": "display_data",
          "data": {
            "image/png": "[encoded data removed]",
            "text/plain": [
              "<Figure size 878.4x324 with 1 Axes>"
            ]
          },
          "metadata": {
            "tags": [],
            "needs_background": "light"
          }
        }
      ]
    },
    {
      "cell_type": "code",
      "metadata": {
        "id": "j92A5ub4uCVL"
      },
      "source": [
        ""
      ],
      "execution_count": null,
      "outputs": []
    }
  ]
}